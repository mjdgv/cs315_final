{
 "cells": [
  {
   "cell_type": "markdown",
   "id": "ef2da246",
   "metadata": {},
   "source": [
    "# Topic Modeling\n",
    "\n",
    "Purpose: Given metadata from TikTok ad videos, determine the prominent topics within ads using LDA.  \n",
    "Author: Eni Mustafaraj and Lillie Godinez\n",
    "\n",
    "**Outline**  \n",
    "1. [Load the data](#load)  \n",
    "2. [Create doc dataframe](#docdf)  \n",
    "3. [Initialize the CountVectorizer](#countvec)  \n",
    "4. [Fit the LDA model](#lda)  \n",
    "5. [Visualizations](#vis)\n",
    "6. [Grid search](#grid)"
   ]
  },
  {
   "cell_type": "markdown",
   "id": "3835e9fc",
   "metadata": {},
   "source": [
    "Import packages"
   ]
  },
  {
   "cell_type": "code",
   "execution_count": 2,
   "id": "7f0595a7",
   "metadata": {},
   "outputs": [],
   "source": [
    "import pandas as pd\n",
    "from sklearn.feature_extraction.text import CountVectorizer\n",
    "from sklearn.decomposition import LatentDirichletAllocation\n",
    "import numpy as np\n",
    "import matplotlib.pyplot as plt\n",
    "from sklearn.model_selection import GridSearchCV"
   ]
  },
  {
   "cell_type": "markdown",
   "id": "84aec2be",
   "metadata": {},
   "source": [
    "<a name=\"load\"></a>\n",
    "## Load the data\n",
    "\n",
    "We have a csv file where each line represents a video and each column is the metadata for that video collected via Pyktok. These ads are across 19 Wellesley College students aged 18-24."
   ]
  },
  {
   "cell_type": "code",
   "execution_count": 3,
   "id": "430fc6ee",
   "metadata": {},
   "outputs": [
    {
     "data": {
      "text/html": [
       "<div>\n",
       "<style scoped>\n",
       "    .dataframe tbody tr th:only-of-type {\n",
       "        vertical-align: middle;\n",
       "    }\n",
       "\n",
       "    .dataframe tbody tr th {\n",
       "        vertical-align: top;\n",
       "    }\n",
       "\n",
       "    .dataframe thead th {\n",
       "        text-align: right;\n",
       "    }\n",
       "</style>\n",
       "<table border=\"1\" class=\"dataframe\">\n",
       "  <thead>\n",
       "    <tr style=\"text-align: right;\">\n",
       "      <th></th>\n",
       "      <th>Unnamed: 0.1</th>\n",
       "      <th>video_id</th>\n",
       "      <th>video_timestamp</th>\n",
       "      <th>video_duration</th>\n",
       "      <th>video_locationcreated</th>\n",
       "      <th>suggested_words</th>\n",
       "      <th>video_diggcount</th>\n",
       "      <th>video_sharecount</th>\n",
       "      <th>video_commentcount</th>\n",
       "      <th>video_playcount</th>\n",
       "      <th>...</th>\n",
       "      <th>author_name</th>\n",
       "      <th>author_followercount</th>\n",
       "      <th>author_followingcount</th>\n",
       "      <th>author_heartcount</th>\n",
       "      <th>author_videocount</th>\n",
       "      <th>author_diggcount</th>\n",
       "      <th>author_verified</th>\n",
       "      <th>hashtags</th>\n",
       "      <th>data_user</th>\n",
       "      <th>Unnamed: 0</th>\n",
       "    </tr>\n",
       "  </thead>\n",
       "  <tbody>\n",
       "    <tr>\n",
       "      <th>0</th>\n",
       "      <td>23</td>\n",
       "      <td>7.340000e+18</td>\n",
       "      <td>2024-03-01T11:42:38</td>\n",
       "      <td>15.0</td>\n",
       "      <td>FAKE-AD</td>\n",
       "      <td>walking pretty, Walking Shoes, Walking On Water</td>\n",
       "      <td>675.0</td>\n",
       "      <td>10.0</td>\n",
       "      <td>8.0</td>\n",
       "      <td>954100.0</td>\n",
       "      <td>...</td>\n",
       "      <td>Athleta</td>\n",
       "      <td>NaN</td>\n",
       "      <td>NaN</td>\n",
       "      <td>NaN</td>\n",
       "      <td>NaN</td>\n",
       "      <td>NaN</td>\n",
       "      <td>False</td>\n",
       "      <td>NaN</td>\n",
       "      <td>NaN</td>\n",
       "      <td>NaN</td>\n",
       "    </tr>\n",
       "    <tr>\n",
       "      <th>1</th>\n",
       "      <td>26</td>\n",
       "      <td>7.320000e+18</td>\n",
       "      <td>2023-12-21T20:47:42</td>\n",
       "      <td>27.0</td>\n",
       "      <td>US</td>\n",
       "      <td>christina stratton, christinastrat, Scrubs Dov...</td>\n",
       "      <td>1404.0</td>\n",
       "      <td>5.0</td>\n",
       "      <td>11.0</td>\n",
       "      <td>390700.0</td>\n",
       "      <td>...</td>\n",
       "      <td>christina stratton</td>\n",
       "      <td>NaN</td>\n",
       "      <td>NaN</td>\n",
       "      <td>NaN</td>\n",
       "      <td>NaN</td>\n",
       "      <td>NaN</td>\n",
       "      <td>False</td>\n",
       "      <td>DovePartner, DoveLove</td>\n",
       "      <td>NaN</td>\n",
       "      <td>NaN</td>\n",
       "    </tr>\n",
       "    <tr>\n",
       "      <th>2</th>\n",
       "      <td>43</td>\n",
       "      <td>7.340000e+18</td>\n",
       "      <td>2024-02-26T17:06:19</td>\n",
       "      <td>15.0</td>\n",
       "      <td>FAKE-AD</td>\n",
       "      <td>disney movies, raiden shogun, Disney Shows, Di...</td>\n",
       "      <td>11000.0</td>\n",
       "      <td>112.0</td>\n",
       "      <td>174.0</td>\n",
       "      <td>17500000.0</td>\n",
       "      <td>...</td>\n",
       "      <td>DisneyPlus</td>\n",
       "      <td>NaN</td>\n",
       "      <td>NaN</td>\n",
       "      <td>NaN</td>\n",
       "      <td>NaN</td>\n",
       "      <td>NaN</td>\n",
       "      <td>False</td>\n",
       "      <td>NaN</td>\n",
       "      <td>NaN</td>\n",
       "      <td>NaN</td>\n",
       "    </tr>\n",
       "    <tr>\n",
       "      <th>3</th>\n",
       "      <td>59</td>\n",
       "      <td>7.340000e+18</td>\n",
       "      <td>2024-02-28T14:47:57</td>\n",
       "      <td>6.0</td>\n",
       "      <td>FAKE-AD</td>\n",
       "      <td>cushion, Cushion Foundation, Cushion Recommend...</td>\n",
       "      <td>512.0</td>\n",
       "      <td>3.0</td>\n",
       "      <td>4.0</td>\n",
       "      <td>1300000.0</td>\n",
       "      <td>...</td>\n",
       "      <td>U by Kotex</td>\n",
       "      <td>NaN</td>\n",
       "      <td>NaN</td>\n",
       "      <td>NaN</td>\n",
       "      <td>NaN</td>\n",
       "      <td>NaN</td>\n",
       "      <td>False</td>\n",
       "      <td>NaN</td>\n",
       "      <td>NaN</td>\n",
       "      <td>NaN</td>\n",
       "    </tr>\n",
       "    <tr>\n",
       "      <th>4</th>\n",
       "      <td>66</td>\n",
       "      <td>7.330000e+18</td>\n",
       "      <td>2024-02-09T13:19:38</td>\n",
       "      <td>14.0</td>\n",
       "      <td>FAKE-AD</td>\n",
       "      <td>Southwest Airlines, Banquette Seating, Southwe...</td>\n",
       "      <td>33100.0</td>\n",
       "      <td>346.0</td>\n",
       "      <td>328.0</td>\n",
       "      <td>77300000.0</td>\n",
       "      <td>...</td>\n",
       "      <td>Southwest Airlines®</td>\n",
       "      <td>NaN</td>\n",
       "      <td>NaN</td>\n",
       "      <td>NaN</td>\n",
       "      <td>NaN</td>\n",
       "      <td>NaN</td>\n",
       "      <td>False</td>\n",
       "      <td>NaN</td>\n",
       "      <td>NaN</td>\n",
       "      <td>NaN</td>\n",
       "    </tr>\n",
       "  </tbody>\n",
       "</table>\n",
       "<p>5 rows × 24 columns</p>\n",
       "</div>"
      ],
      "text/plain": [
       "   Unnamed: 0.1      video_id      video_timestamp  video_duration  \\\n",
       "0            23  7.340000e+18  2024-03-01T11:42:38            15.0   \n",
       "1            26  7.320000e+18  2023-12-21T20:47:42            27.0   \n",
       "2            43  7.340000e+18  2024-02-26T17:06:19            15.0   \n",
       "3            59  7.340000e+18  2024-02-28T14:47:57             6.0   \n",
       "4            66  7.330000e+18  2024-02-09T13:19:38            14.0   \n",
       "\n",
       "  video_locationcreated                                    suggested_words  \\\n",
       "0               FAKE-AD    walking pretty, Walking Shoes, Walking On Water   \n",
       "1                    US  christina stratton, christinastrat, Scrubs Dov...   \n",
       "2               FAKE-AD  disney movies, raiden shogun, Disney Shows, Di...   \n",
       "3               FAKE-AD  cushion, Cushion Foundation, Cushion Recommend...   \n",
       "4               FAKE-AD  Southwest Airlines, Banquette Seating, Southwe...   \n",
       "\n",
       "   video_diggcount  video_sharecount  video_commentcount  video_playcount  \\\n",
       "0            675.0              10.0                 8.0         954100.0   \n",
       "1           1404.0               5.0                11.0         390700.0   \n",
       "2          11000.0             112.0               174.0       17500000.0   \n",
       "3            512.0               3.0                 4.0        1300000.0   \n",
       "4          33100.0             346.0               328.0       77300000.0   \n",
       "\n",
       "   ...          author_name  author_followercount  author_followingcount  \\\n",
       "0  ...              Athleta                   NaN                    NaN   \n",
       "1  ...   christina stratton                   NaN                    NaN   \n",
       "2  ...           DisneyPlus                   NaN                    NaN   \n",
       "3  ...           U by Kotex                   NaN                    NaN   \n",
       "4  ...  Southwest Airlines®                   NaN                    NaN   \n",
       "\n",
       "  author_heartcount author_videocount  author_diggcount  author_verified  \\\n",
       "0               NaN               NaN               NaN            False   \n",
       "1               NaN               NaN               NaN            False   \n",
       "2               NaN               NaN               NaN            False   \n",
       "3               NaN               NaN               NaN            False   \n",
       "4               NaN               NaN               NaN            False   \n",
       "\n",
       "                hashtags  data_user  Unnamed: 0  \n",
       "0                    NaN        NaN         NaN  \n",
       "1  DovePartner, DoveLove        NaN         NaN  \n",
       "2                    NaN        NaN         NaN  \n",
       "3                    NaN        NaN         NaN  \n",
       "4                    NaN        NaN         NaN  \n",
       "\n",
       "[5 rows x 24 columns]"
      ]
     },
     "execution_count": 3,
     "metadata": {},
     "output_type": "execute_result"
    }
   ],
   "source": [
    "df = pd.read_csv('all_ads.csv')\n",
    "df.head()"
   ]
  },
  {
   "cell_type": "markdown",
   "id": "361fcafd",
   "metadata": {},
   "source": [
    "<a name=\"docdf\"></a>\n",
    "## Create a new dataframe with the documents\n",
    "\n",
    "Each document is going to be the combined text from suggested words and video description for the corresponding video."
   ]
  },
  {
   "cell_type": "code",
   "execution_count": 5,
   "id": "b325153d",
   "metadata": {},
   "outputs": [],
   "source": [
    "docList = [] # to hold the new documents\n",
    "\n",
    "for i in df.index:\n",
    "    sugwords = df.iloc[i]['suggested_words']\n",
    "    viddes = df.iloc[i]['video_description']\n",
    "    \n",
    "    # turn NaN values into empty strings to avoid errors\n",
    "    if type(sugwords) != str:\n",
    "        sugwords = ''\n",
    "    if type(viddes) != str:\n",
    "        viddes = ''\n",
    "    \n",
    "    # combine with a space in between to avoid creating nonwords\n",
    "    combined = sugwords + \" \" + viddes\n",
    "    docList.append(combined)"
   ]
  },
  {
   "cell_type": "markdown",
   "id": "375b862f",
   "metadata": {},
   "source": [
    "This new dataframe holds the documents for all videos."
   ]
  },
  {
   "cell_type": "code",
   "execution_count": 6,
   "id": "0aab9765",
   "metadata": {},
   "outputs": [
    {
     "data": {
      "text/html": [
       "<div>\n",
       "<style scoped>\n",
       "    .dataframe tbody tr th:only-of-type {\n",
       "        vertical-align: middle;\n",
       "    }\n",
       "\n",
       "    .dataframe tbody tr th {\n",
       "        vertical-align: top;\n",
       "    }\n",
       "\n",
       "    .dataframe thead th {\n",
       "        text-align: right;\n",
       "    }\n",
       "</style>\n",
       "<table border=\"1\" class=\"dataframe\">\n",
       "  <thead>\n",
       "    <tr style=\"text-align: right;\">\n",
       "      <th></th>\n",
       "      <th>document</th>\n",
       "    </tr>\n",
       "  </thead>\n",
       "  <tbody>\n",
       "    <tr>\n",
       "      <th>0</th>\n",
       "      <td>walking pretty, Walking Shoes, Walking On Wate...</td>\n",
       "    </tr>\n",
       "    <tr>\n",
       "      <th>1</th>\n",
       "      <td>christina stratton, christinastrat, Scrubs Dov...</td>\n",
       "    </tr>\n",
       "    <tr>\n",
       "      <th>2</th>\n",
       "      <td>disney movies, raiden shogun, Disney Shows, Di...</td>\n",
       "    </tr>\n",
       "    <tr>\n",
       "      <th>3</th>\n",
       "      <td>cushion, Cushion Foundation, Cushion Recommend...</td>\n",
       "    </tr>\n",
       "    <tr>\n",
       "      <th>4</th>\n",
       "      <td>Southwest Airlines, Banquette Seating, Southwe...</td>\n",
       "    </tr>\n",
       "  </tbody>\n",
       "</table>\n",
       "</div>"
      ],
      "text/plain": [
       "                                            document\n",
       "0  walking pretty, Walking Shoes, Walking On Wate...\n",
       "1  christina stratton, christinastrat, Scrubs Dov...\n",
       "2  disney movies, raiden shogun, Disney Shows, Di...\n",
       "3  cushion, Cushion Foundation, Cushion Recommend...\n",
       "4  Southwest Airlines, Banquette Seating, Southwe..."
      ]
     },
     "execution_count": 6,
     "metadata": {},
     "output_type": "execute_result"
    }
   ],
   "source": [
    "allDocs = pd.DataFrame(docList,columns=['document'])\n",
    "allDocs.head()"
   ]
  },
  {
   "cell_type": "markdown",
   "id": "548c05a4",
   "metadata": {},
   "source": [
    "<a name=\"countvec\"></a>\n",
    "## Initialize the CountVectorizer\n",
    "\n",
    "Create a CountVectorizer object that removes stop words, lowercases letters, and keeps only words that are 3 or more characters long. \n",
    "\n",
    "Then, we fit the vectorizer using our dataframe of documents to create a document-term matrix."
   ]
  },
  {
   "cell_type": "code",
   "execution_count": 7,
   "id": "b013b906",
   "metadata": {},
   "outputs": [
    {
     "data": {
      "text/plain": [
       "<23937x23163 sparse matrix of type '<class 'numpy.int64'>'\n",
       "\twith 315435 stored elements in Compressed Sparse Row format>"
      ]
     },
     "execution_count": 7,
     "metadata": {},
     "output_type": "execute_result"
    }
   ],
   "source": [
    "# Initialize the vectorizer\n",
    "vectorizer = CountVectorizer(\n",
    "    strip_accents='unicode',\n",
    "    stop_words='english',\n",
    "    lowercase=True,\n",
    "    token_pattern=r'\\b[a-zA-Z]{3,}\\b', # we want only words that contain letters and are 3 or more characters long\n",
    ")\n",
    "\n",
    "# Transform our data into the document-term matrix\n",
    "dtm = vectorizer.fit_transform(allDocs['document'])\n",
    "dtm"
   ]
  },
  {
   "cell_type": "code",
   "execution_count": 8,
   "id": "e8887bab",
   "metadata": {},
   "outputs": [],
   "source": [
    "def matrix2Doc(dtMatrix, features, index):\n",
    "    \"\"\"Turns each row of the document-term matrix into a list of terms\"\"\"\n",
    "    row = dtMatrix.getrow(index).toarray()\n",
    "    non_zero_indices = row.nonzero()[1]\n",
    "    words = [features[idx] for idx in non_zero_indices]\n",
    "    return words"
   ]
  },
  {
   "cell_type": "markdown",
   "id": "5cc208b9",
   "metadata": {},
   "source": [
    "Extract feature names and add to our document dataframe the terms associated with each doc that were extracted using the CountVectorizer."
   ]
  },
  {
   "cell_type": "code",
   "execution_count": null,
   "id": "878218cc",
   "metadata": {},
   "outputs": [],
   "source": [
    "feature_names = vectorizer.get_feature_names_out()\n",
    "allDocsAsTerms = [matrix2Doc(dtm, feature_names, i) for i in range(dtm.shape[0])]"
   ]
  },
  {
   "cell_type": "markdown",
   "id": "ebe3ea1f",
   "metadata": {},
   "source": [
    "<a name=\"lda\"></a>\n",
    "## Fitting an LDA model using our doc-term matrix"
   ]
  },
  {
   "cell_type": "code",
   "execution_count": 11,
   "id": "dbbb1a62",
   "metadata": {},
   "outputs": [
    {
     "data": {
      "text/html": [
       "<style>#sk-container-id-1 {color: black;}#sk-container-id-1 pre{padding: 0;}#sk-container-id-1 div.sk-toggleable {background-color: white;}#sk-container-id-1 label.sk-toggleable__label {cursor: pointer;display: block;width: 100%;margin-bottom: 0;padding: 0.3em;box-sizing: border-box;text-align: center;}#sk-container-id-1 label.sk-toggleable__label-arrow:before {content: \"▸\";float: left;margin-right: 0.25em;color: #696969;}#sk-container-id-1 label.sk-toggleable__label-arrow:hover:before {color: black;}#sk-container-id-1 div.sk-estimator:hover label.sk-toggleable__label-arrow:before {color: black;}#sk-container-id-1 div.sk-toggleable__content {max-height: 0;max-width: 0;overflow: hidden;text-align: left;background-color: #f0f8ff;}#sk-container-id-1 div.sk-toggleable__content pre {margin: 0.2em;color: black;border-radius: 0.25em;background-color: #f0f8ff;}#sk-container-id-1 input.sk-toggleable__control:checked~div.sk-toggleable__content {max-height: 200px;max-width: 100%;overflow: auto;}#sk-container-id-1 input.sk-toggleable__control:checked~label.sk-toggleable__label-arrow:before {content: \"▾\";}#sk-container-id-1 div.sk-estimator input.sk-toggleable__control:checked~label.sk-toggleable__label {background-color: #d4ebff;}#sk-container-id-1 div.sk-label input.sk-toggleable__control:checked~label.sk-toggleable__label {background-color: #d4ebff;}#sk-container-id-1 input.sk-hidden--visually {border: 0;clip: rect(1px 1px 1px 1px);clip: rect(1px, 1px, 1px, 1px);height: 1px;margin: -1px;overflow: hidden;padding: 0;position: absolute;width: 1px;}#sk-container-id-1 div.sk-estimator {font-family: monospace;background-color: #f0f8ff;border: 1px dotted black;border-radius: 0.25em;box-sizing: border-box;margin-bottom: 0.5em;}#sk-container-id-1 div.sk-estimator:hover {background-color: #d4ebff;}#sk-container-id-1 div.sk-parallel-item::after {content: \"\";width: 100%;border-bottom: 1px solid gray;flex-grow: 1;}#sk-container-id-1 div.sk-label:hover label.sk-toggleable__label {background-color: #d4ebff;}#sk-container-id-1 div.sk-serial::before {content: \"\";position: absolute;border-left: 1px solid gray;box-sizing: border-box;top: 0;bottom: 0;left: 50%;z-index: 0;}#sk-container-id-1 div.sk-serial {display: flex;flex-direction: column;align-items: center;background-color: white;padding-right: 0.2em;padding-left: 0.2em;position: relative;}#sk-container-id-1 div.sk-item {position: relative;z-index: 1;}#sk-container-id-1 div.sk-parallel {display: flex;align-items: stretch;justify-content: center;background-color: white;position: relative;}#sk-container-id-1 div.sk-item::before, #sk-container-id-1 div.sk-parallel-item::before {content: \"\";position: absolute;border-left: 1px solid gray;box-sizing: border-box;top: 0;bottom: 0;left: 50%;z-index: -1;}#sk-container-id-1 div.sk-parallel-item {display: flex;flex-direction: column;z-index: 1;position: relative;background-color: white;}#sk-container-id-1 div.sk-parallel-item:first-child::after {align-self: flex-end;width: 50%;}#sk-container-id-1 div.sk-parallel-item:last-child::after {align-self: flex-start;width: 50%;}#sk-container-id-1 div.sk-parallel-item:only-child::after {width: 0;}#sk-container-id-1 div.sk-dashed-wrapped {border: 1px dashed gray;margin: 0 0.4em 0.5em 0.4em;box-sizing: border-box;padding-bottom: 0.4em;background-color: white;}#sk-container-id-1 div.sk-label label {font-family: monospace;font-weight: bold;display: inline-block;line-height: 1.2em;}#sk-container-id-1 div.sk-label-container {text-align: center;}#sk-container-id-1 div.sk-container {/* jupyter's `normalize.less` sets `[hidden] { display: none; }` but bootstrap.min.css set `[hidden] { display: none !important; }` so we also need the `!important` here to be able to override the default hidden behavior on the sphinx rendered scikit-learn.org. See: https://github.com/scikit-learn/scikit-learn/issues/21755 */display: inline-block !important;position: relative;}#sk-container-id-1 div.sk-text-repr-fallback {display: none;}</style><div id=\"sk-container-id-1\" class=\"sk-top-container\"><div class=\"sk-text-repr-fallback\"><pre>LatentDirichletAllocation(n_components=4, random_state=0)</pre><b>In a Jupyter environment, please rerun this cell to show the HTML representation or trust the notebook. <br />On GitHub, the HTML representation is unable to render, please try loading this page with nbviewer.org.</b></div><div class=\"sk-container\" hidden><div class=\"sk-item\"><div class=\"sk-estimator sk-toggleable\"><input class=\"sk-toggleable__control sk-hidden--visually\" id=\"sk-estimator-id-1\" type=\"checkbox\" checked><label for=\"sk-estimator-id-1\" class=\"sk-toggleable__label sk-toggleable__label-arrow\">LatentDirichletAllocation</label><div class=\"sk-toggleable__content\"><pre>LatentDirichletAllocation(n_components=4, random_state=0)</pre></div></div></div></div></div>"
      ],
      "text/plain": [
       "LatentDirichletAllocation(n_components=4, random_state=0)"
      ]
     },
     "execution_count": 11,
     "metadata": {},
     "output_type": "execute_result"
    }
   ],
   "source": [
    "# Step 1: Initialize the model\n",
    "\n",
    "lda = LatentDirichletAllocation(n_components=4, # we are picking the number of topics arbitrarely at the moment\n",
    "                                random_state=0)\n",
    "\n",
    "# Step 2: Fit the model\n",
    "lda.fit(dtm)"
   ]
  },
  {
   "cell_type": "code",
   "execution_count": 12,
   "id": "936d4b3f",
   "metadata": {},
   "outputs": [
    {
     "name": "stdout",
     "output_type": "stream",
     "text": [
      "Topic 0:\n",
      "body pet coffee products dove new tiktok delivery care taco dog bell best candy app videos sweet pants things skin cream good foundation breakfast day food halara skincare hair wash protein chocolate sephora pets cerave make cute clean poor marshalls\n",
      "Topic 1:\n",
      "new deodorant makeup lip day free butter food love ideas make color gift gloss easy best foundation period essence recipe recipes try tiktok rice snack science snacks fyp peanut covergirl good sandwich body cheese time night just brow skin powder\n",
      "Topic 2:\n",
      "amazon skin finds shop disney skincare hair tiktok products care new bag water mascara shopping maxx home outfit denim serum outfits neutrogena cream routine summer olay body best clothes dune tote makeup walmart beauty tea boost lip bags decor movie\n",
      "Topic 3:\n",
      "dress pizza game new nails press fashion hair super taylor lip bowl balm monopoly movie usher swift free brush body skittles perfume prada best cleaning tiktok bag dominos elementary nail gummies abbott opi review card love oil dresses outfits wig\n"
     ]
    }
   ],
   "source": [
    "def display_topics(model, features, no_top_words):\n",
    "    \"\"\"Helper function to show the top words of a model\"\"\"\n",
    "    for topic_idx, topic in enumerate(model.components_):\n",
    "        print(f\"Topic {topic_idx}:\")\n",
    "        print(\" \".join([features[i]\n",
    "                        for i in topic.argsort()[:-no_top_words-1:-1]])) # syntax for reversing a list [::-1]\n",
    "\n",
    "display_topics(lda, feature_names, 40)"
   ]
  },
  {
   "cell_type": "code",
   "execution_count": 13,
   "id": "22912524",
   "metadata": {},
   "outputs": [],
   "source": [
    "def displayHeader(model, features, no_top_words):\n",
    "    \"\"\"Helper function to show the top words of a model\"\"\"\n",
    "    topicNames = []\n",
    "    for topic_idx, topic in enumerate(model.components_):\n",
    "        topicNames.append(f\"Topic {topic_idx}: \" + (\", \".join([features[i]\n",
    "                             for i in topic.argsort()[:-no_top_words-1:-1]])))\n",
    "    return topicNames\n",
    "\n",
    "doc_topic_dist = lda.transform(dtm)\n",
    "\n",
    "topicnames = displayHeader(lda, feature_names, 5)\n",
    "\n",
    "# index names\n",
    "docnames = allDocs.index.tolist() # We will use the original names of the documents\n",
    "\n",
    "# Make the pandas dataframe\n",
    "df_document_topic = pd.DataFrame(np.round(doc_topic_dist, 3),\n",
    "                                 columns=topicnames,\n",
    "                                 index=docnames)\n",
    "\n",
    "# Get dominant topic for each document\n",
    "dominant_topic = np.argmax(df_document_topic.values, axis=1) # finds the maximum argument\n",
    "df_document_topic['dominant_topic'] = dominant_topic"
   ]
  },
  {
   "cell_type": "markdown",
   "id": "657b01e8",
   "metadata": {},
   "source": [
    "How many documents are sorted into each topic?"
   ]
  },
  {
   "cell_type": "code",
   "execution_count": 14,
   "id": "52f40627",
   "metadata": {},
   "outputs": [
    {
     "data": {
      "text/html": [
       "<div>\n",
       "<style scoped>\n",
       "    .dataframe tbody tr th:only-of-type {\n",
       "        vertical-align: middle;\n",
       "    }\n",
       "\n",
       "    .dataframe tbody tr th {\n",
       "        vertical-align: top;\n",
       "    }\n",
       "\n",
       "    .dataframe thead th {\n",
       "        text-align: right;\n",
       "    }\n",
       "</style>\n",
       "<table border=\"1\" class=\"dataframe\">\n",
       "  <thead>\n",
       "    <tr style=\"text-align: right;\">\n",
       "      <th></th>\n",
       "      <th>Topic Num</th>\n",
       "      <th>Num Documents</th>\n",
       "    </tr>\n",
       "  </thead>\n",
       "  <tbody>\n",
       "    <tr>\n",
       "      <th>0</th>\n",
       "      <td>1</td>\n",
       "      <td>6225</td>\n",
       "    </tr>\n",
       "    <tr>\n",
       "      <th>1</th>\n",
       "      <td>2</td>\n",
       "      <td>6217</td>\n",
       "    </tr>\n",
       "    <tr>\n",
       "      <th>2</th>\n",
       "      <td>0</td>\n",
       "      <td>6068</td>\n",
       "    </tr>\n",
       "    <tr>\n",
       "      <th>3</th>\n",
       "      <td>3</td>\n",
       "      <td>5427</td>\n",
       "    </tr>\n",
       "  </tbody>\n",
       "</table>\n",
       "</div>"
      ],
      "text/plain": [
       "   Topic Num  Num Documents\n",
       "0          1           6225\n",
       "1          2           6217\n",
       "2          0           6068\n",
       "3          3           5427"
      ]
     },
     "execution_count": 14,
     "metadata": {},
     "output_type": "execute_result"
    }
   ],
   "source": [
    "df_topic_distribution = df_document_topic['dominant_topic'].value_counts().reset_index(name=\"Num Documents\")\n",
    "df_topic_distribution.columns = ['Topic Num', 'Num Documents']\n",
    "df_topic_distribution"
   ]
  },
  {
   "cell_type": "markdown",
   "id": "570bb91d",
   "metadata": {},
   "source": [
    "<a name=\"vis\"></a>\n",
    "## Visualize the results\n",
    "\n",
    "I wanted to create a visualization similar to one I found on BERTopics. Thus, this section will calculate the top words for each topic and how many times they are repeated and then visualize that in a horizontal bar graph."
   ]
  },
  {
   "cell_type": "code",
   "execution_count": 56,
   "id": "cb5a1c9f",
   "metadata": {},
   "outputs": [],
   "source": [
    "numTopics=len(lda.components_) #gets the number of topics, even if the parameter is changed\n",
    "numWords = 10 #change to visualize more words\n",
    "\n",
    "listOfResults = []\n",
    "for i in range(numTopics):\n",
    "    # for each topic, use the makeTopWord function to calculate \n",
    "    # the values for top words\n",
    "    listOfResults.append(makeTopWord(i,numWords))"
   ]
  },
  {
   "cell_type": "code",
   "execution_count": 57,
   "id": "7d0ce316",
   "metadata": {},
   "outputs": [],
   "source": [
    "def makeTopWord(topicNum,numWords):\n",
    "    \"\"\"\n",
    "    Given the number of top words desired and the number of topics, \n",
    "    sort the feature names based on occurrance. Then create a dictionary \n",
    "    that returns the value of word occurance as a value and the word as a key.\n",
    "    \"\"\"\n",
    "    commonWords = np.flip(feature_names[lda.components_[topicNum].argsort()])[:numWords]\n",
    "    wordProb = sorted(lda.components_[topicNum],reverse=True)[:numWords]\n",
    "    \n",
    "    result_dict = {commonWords[i]: wordProb[i] for i in range(len(commonWords))}\n",
    "    \n",
    "    return result_dict"
   ]
  },
  {
   "cell_type": "code",
   "execution_count": 74,
   "id": "3108ca36",
   "metadata": {},
   "outputs": [],
   "source": [
    "def makeTopWordFig(listOfResults):\n",
    "    \"\"\"\n",
    "    Using the dictionary of most common words with occurance values\n",
    "    for each topic, create a figure that visualizes this data using  \n",
    "    subplots.\n",
    "    \"\"\"\n",
    "    num_topics = len(listOfResults)\n",
    "    num_cols = 2  # Two columns for subplots\n",
    "    num_rows = -(-num_topics // num_cols)  # Ceiling division to calculate number of rows\n",
    "    \n",
    "    # initialize subplot figure\n",
    "    f, axs = plt.subplots(num_rows, num_cols, sharey=False, figsize=(5*num_cols, 5*num_rows))\n",
    "    colors = ['red', 'orange', 'blue', 'yellow', 'green']\n",
    "    \n",
    "    # for each topic, separate out the items in the dictionary \n",
    "    # then index the figure axes to plot the information\n",
    "    for i, result in enumerate(listOfResults):\n",
    "        row = i // num_cols\n",
    "        col = i % num_cols\n",
    "        x = list(result.keys())\n",
    "        y = list(result.values())\n",
    "        if num_rows == 1:  # If only one row, axs is a 1D array\n",
    "            axs[col].barh(x, y, color=colors[i])\n",
    "            axs[col].set_title(f'Topic: {i}')\n",
    "        else:  # If more than one row, axs is a 2D array\n",
    "            axs[row, col].barh(x, y, color=colors[i])\n",
    "            axs[row, col].set_title(f'Topic: {i}')\n",
    "            axs[row, col].invert_yaxis()\n",
    "    \n",
    "    # Hide empty subplots if any\n",
    "    if num_topics < num_rows * num_cols:\n",
    "        for i in range(num_topics, num_rows * num_cols):\n",
    "            if num_rows == 1:\n",
    "                axs[i].axis('off')\n",
    "            else:\n",
    "                axs.flat[i].axis('off')\n",
    "    \n",
    "    plt.rcParams['font.size'] = 15\n",
    "    plt.tight_layout()\n",
    "    plt.show()"
   ]
  },
  {
   "cell_type": "code",
   "execution_count": 75,
   "id": "65b842fd",
   "metadata": {},
   "outputs": [
    {
     "data": {
      "image/png": "[encoded data removed]",
      "text/plain": [
       "<Figure size 1000x1000 with 4 Axes>"
      ]
     },
     "metadata": {},
     "output_type": "display_data"
    }
   ],
   "source": [
    "makeTopWordFig(listOfResults)"
   ]
  },
  {
   "cell_type": "markdown",
   "id": "1b6ee6e2",
   "metadata": {},
   "source": [
    "<a name=\"grid\"></a>\n",
    "## Grid Search\n",
    "\n",
    "Grid search allows us to test different parameters for the number of topics."
   ]
  },
  {
   "cell_type": "code",
   "execution_count": 29,
   "id": "e66beeb6",
   "metadata": {},
   "outputs": [
    {
     "data": {
      "text/html": [
       "<style>#sk-container-id-3 {color: black;}#sk-container-id-3 pre{padding: 0;}#sk-container-id-3 div.sk-toggleable {background-color: white;}#sk-container-id-3 label.sk-toggleable__label {cursor: pointer;display: block;width: 100%;margin-bottom: 0;padding: 0.3em;box-sizing: border-box;text-align: center;}#sk-container-id-3 label.sk-toggleable__label-arrow:before {content: \"▸\";float: left;margin-right: 0.25em;color: #696969;}#sk-container-id-3 label.sk-toggleable__label-arrow:hover:before {color: black;}#sk-container-id-3 div.sk-estimator:hover label.sk-toggleable__label-arrow:before {color: black;}#sk-container-id-3 div.sk-toggleable__content {max-height: 0;max-width: 0;overflow: hidden;text-align: left;background-color: #f0f8ff;}#sk-container-id-3 div.sk-toggleable__content pre {margin: 0.2em;color: black;border-radius: 0.25em;background-color: #f0f8ff;}#sk-container-id-3 input.sk-toggleable__control:checked~div.sk-toggleable__content {max-height: 200px;max-width: 100%;overflow: auto;}#sk-container-id-3 input.sk-toggleable__control:checked~label.sk-toggleable__label-arrow:before {content: \"▾\";}#sk-container-id-3 div.sk-estimator input.sk-toggleable__control:checked~label.sk-toggleable__label {background-color: #d4ebff;}#sk-container-id-3 div.sk-label input.sk-toggleable__control:checked~label.sk-toggleable__label {background-color: #d4ebff;}#sk-container-id-3 input.sk-hidden--visually {border: 0;clip: rect(1px 1px 1px 1px);clip: rect(1px, 1px, 1px, 1px);height: 1px;margin: -1px;overflow: hidden;padding: 0;position: absolute;width: 1px;}#sk-container-id-3 div.sk-estimator {font-family: monospace;background-color: #f0f8ff;border: 1px dotted black;border-radius: 0.25em;box-sizing: border-box;margin-bottom: 0.5em;}#sk-container-id-3 div.sk-estimator:hover {background-color: #d4ebff;}#sk-container-id-3 div.sk-parallel-item::after {content: \"\";width: 100%;border-bottom: 1px solid gray;flex-grow: 1;}#sk-container-id-3 div.sk-label:hover label.sk-toggleable__label {background-color: #d4ebff;}#sk-container-id-3 div.sk-serial::before {content: \"\";position: absolute;border-left: 1px solid gray;box-sizing: border-box;top: 0;bottom: 0;left: 50%;z-index: 0;}#sk-container-id-3 div.sk-serial {display: flex;flex-direction: column;align-items: center;background-color: white;padding-right: 0.2em;padding-left: 0.2em;position: relative;}#sk-container-id-3 div.sk-item {position: relative;z-index: 1;}#sk-container-id-3 div.sk-parallel {display: flex;align-items: stretch;justify-content: center;background-color: white;position: relative;}#sk-container-id-3 div.sk-item::before, #sk-container-id-3 div.sk-parallel-item::before {content: \"\";position: absolute;border-left: 1px solid gray;box-sizing: border-box;top: 0;bottom: 0;left: 50%;z-index: -1;}#sk-container-id-3 div.sk-parallel-item {display: flex;flex-direction: column;z-index: 1;position: relative;background-color: white;}#sk-container-id-3 div.sk-parallel-item:first-child::after {align-self: flex-end;width: 50%;}#sk-container-id-3 div.sk-parallel-item:last-child::after {align-self: flex-start;width: 50%;}#sk-container-id-3 div.sk-parallel-item:only-child::after {width: 0;}#sk-container-id-3 div.sk-dashed-wrapped {border: 1px dashed gray;margin: 0 0.4em 0.5em 0.4em;box-sizing: border-box;padding-bottom: 0.4em;background-color: white;}#sk-container-id-3 div.sk-label label {font-family: monospace;font-weight: bold;display: inline-block;line-height: 1.2em;}#sk-container-id-3 div.sk-label-container {text-align: center;}#sk-container-id-3 div.sk-container {/* jupyter's `normalize.less` sets `[hidden] { display: none; }` but bootstrap.min.css set `[hidden] { display: none !important; }` so we also need the `!important` here to be able to override the default hidden behavior on the sphinx rendered scikit-learn.org. See: https://github.com/scikit-learn/scikit-learn/issues/21755 */display: inline-block !important;position: relative;}#sk-container-id-3 div.sk-text-repr-fallback {display: none;}</style><div id=\"sk-container-id-3\" class=\"sk-top-container\"><div class=\"sk-text-repr-fallback\"><pre>GridSearchCV(estimator=LatentDirichletAllocation(),\n",
       "             param_grid={&#x27;n_components&#x27;: [1, 2, 3, 4, 5, 6]})</pre><b>In a Jupyter environment, please rerun this cell to show the HTML representation or trust the notebook. <br />On GitHub, the HTML representation is unable to render, please try loading this page with nbviewer.org.</b></div><div class=\"sk-container\" hidden><div class=\"sk-item sk-dashed-wrapped\"><div class=\"sk-label-container\"><div class=\"sk-label sk-toggleable\"><input class=\"sk-toggleable__control sk-hidden--visually\" id=\"sk-estimator-id-5\" type=\"checkbox\" ><label for=\"sk-estimator-id-5\" class=\"sk-toggleable__label sk-toggleable__label-arrow\">GridSearchCV</label><div class=\"sk-toggleable__content\"><pre>GridSearchCV(estimator=LatentDirichletAllocation(),\n",
       "             param_grid={&#x27;n_components&#x27;: [1, 2, 3, 4, 5, 6]})</pre></div></div></div><div class=\"sk-parallel\"><div class=\"sk-parallel-item\"><div class=\"sk-item\"><div class=\"sk-label-container\"><div class=\"sk-label sk-toggleable\"><input class=\"sk-toggleable__control sk-hidden--visually\" id=\"sk-estimator-id-6\" type=\"checkbox\" ><label for=\"sk-estimator-id-6\" class=\"sk-toggleable__label sk-toggleable__label-arrow\">estimator: LatentDirichletAllocation</label><div class=\"sk-toggleable__content\"><pre>LatentDirichletAllocation()</pre></div></div></div><div class=\"sk-serial\"><div class=\"sk-item\"><div class=\"sk-estimator sk-toggleable\"><input class=\"sk-toggleable__control sk-hidden--visually\" id=\"sk-estimator-id-7\" type=\"checkbox\" ><label for=\"sk-estimator-id-7\" class=\"sk-toggleable__label sk-toggleable__label-arrow\">LatentDirichletAllocation</label><div class=\"sk-toggleable__content\"><pre>LatentDirichletAllocation()</pre></div></div></div></div></div></div></div></div></div></div>"
      ],
      "text/plain": [
       "GridSearchCV(estimator=LatentDirichletAllocation(),\n",
       "             param_grid={'n_components': [1, 2, 3, 4, 5, 6]})"
      ]
     },
     "execution_count": 29,
     "metadata": {},
     "output_type": "execute_result"
    }
   ],
   "source": [
    "# We are going to test multiple values for the number of topics\n",
    "search_params1 = {'n_components': [5, 10, 15, 20, 25, 30, 35]}\n",
    "search_params2 = {'n_components': [1,2,3,4,5,6]}\n",
    "\n",
    "# Initialize the LDA model\n",
    "lda = LatentDirichletAllocation()\n",
    "\n",
    "# Initialize a Grid Search with cross-validation instance\n",
    "grid = GridSearchCV(lda, param_grid=search_params2)\n",
    "\n",
    "# Do the Grid Search\n",
    "#grid.fit(dtm)"
   ]
  },
  {
   "cell_type": "markdown",
   "id": "140f1f48",
   "metadata": {},
   "source": [
    "The result of our grid search is 1 topic, which is likely because we don't have enough data to work with. So, we will manually decide the number of topics by evaluating the results at different values of n. "
   ]
  },
  {
   "cell_type": "code",
   "execution_count": 30,
   "id": "2765b858",
   "metadata": {},
   "outputs": [
    {
     "name": "stdout",
     "output_type": "stream",
     "text": [
      "Best Model's Params:  {'n_components': 1}\n",
      "Best Log Likelihood Score:  -837193.5588827628\n",
      "Model Perplexity:  4534.857031869271\n"
     ]
    }
   ],
   "source": [
    "# Best Model\n",
    "best_lda_model = grid.best_estimator_\n",
    "\n",
    "# Model Parameters\n",
    "print(\"Best Model's Params: \", grid.best_params_)\n",
    "\n",
    "# Log Likelihood Score\n",
    "print(\"Best Log Likelihood Score: \", grid.best_score_)\n",
    "\n",
    "# Perplexity\n",
    "print(\"Model Perplexity: \", best_lda_model.perplexity(dtm))"
   ]
  }
 ],
 "metadata": {
  "kernelspec": {
   "display_name": "Python 3 (ipykernel)",
   "language": "python",
   "name": "python3"
  },
  "language_info": {
   "codemirror_mode": {
    "name": "ipython",
    "version": 3
   },
   "file_extension": ".py",
   "mimetype": "text/x-python",
   "name": "python",
   "nbconvert_exporter": "python",
   "pygments_lexer": "ipython3",
   "version": "3.11.5"
  }
 },
 "nbformat": 4,
 "nbformat_minor": 5
}

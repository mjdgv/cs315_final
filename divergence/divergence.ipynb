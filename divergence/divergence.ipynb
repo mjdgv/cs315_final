{
 "cells": [
  {
   "cell_type": "markdown",
   "metadata": {},
   "source": [
    "# JS and KL divergence\n",
    "\n",
    "Purpose: this notebook calculates word probability distributions for two sets of data (ad and non-ad video metadata) and then takes the two lists of probability distributions and inputs them into the JS divergence calculation function.  \n",
    "Author: Lillie Godinez\n",
    "\n",
    "**Outline**  \n",
    "1. [Helper functions](#helpers)  \n",
    "2. [Word probability function](#probs)\n",
    "3. [JS and KL calculation functions](#calc)  \n",
    "4. [Main function](#main)  \n",
    "5. [Calculate for all data files](#df)"
   ]
  },
  {
   "cell_type": "markdown",
   "metadata": {},
   "source": [
    "Load in the relevant libraries"
   ]
  },
  {
   "cell_type": "code",
   "execution_count": 1,
   "metadata": {
    "id": "eJS508xOgI0q"
   },
   "outputs": [],
   "source": [
    "import pandas as pd\n",
    "from math import log2\n",
    "from math import sqrt\n",
    "from numpy import asarray\n",
    "from collections import Counter\n",
    "import os\n",
    "import re"
   ]
  },
  {
   "cell_type": "markdown",
   "metadata": {},
   "source": [
    "<a name=\"helpers\"></a>\n",
    "## Helper functions"
   ]
  },
  {
   "cell_type": "code",
   "execution_count": 4,
   "metadata": {
    "id": "CdksWNznjqGd"
   },
   "outputs": [],
   "source": [
    "def removeNumber(input_string):\n",
    "    \"\"\"\n",
    "    Given a string, remove any numbers.\n",
    "    \"\"\"\n",
    "    return re.sub(r'\\d+', '', input_string)"
   ]
  },
  {
   "cell_type": "code",
   "execution_count": 5,
   "metadata": {
    "id": "kSXOJDnTeYH4"
   },
   "outputs": [],
   "source": [
    "def flatten_list(lst):\n",
    "    \"\"\"Flatten a list of lists.\"\"\"\n",
    "    wordlist = [item for sublist in lst for item in sublist]\n",
    "    return [item for w in wordlist for item in w.split()]"
   ]
  },
  {
   "cell_type": "code",
   "execution_count": 6,
   "metadata": {
    "id": "okPzpEPUeYSj"
   },
   "outputs": [],
   "source": [
    "# making the datalists\n",
    "def makeDFs(df):\n",
    "    \"\"\"\n",
    "    Given a dataframe of pyktok results, create a list of all suggested words for\n",
    "    ad and non-ad videos separately. Returns a tuple of lists\n",
    "    \"\"\"\n",
    "    #remove NaN suggested word rows\n",
    "    df = df[df['suggested_words'].isna()==False]\n",
    "    \n",
    "    #clean the suggested words by removing the numbers\n",
    "    df['suggested_words_cleaned'] = df['suggested_words'].apply(removeNumber)\n",
    "    \n",
    "    #create separate dfs for ads and non-ads\n",
    "    ad = df[df['video_is_ad']==True]\n",
    "    nonad = df[df['video_is_ad']==False]\n",
    "    \n",
    "    #turn the suggested words column into a list\n",
    "    suggested_ad = list(ad['suggested_words_cleaned'])\n",
    "    suggested_nonad = list(nonad['suggested_words_cleaned'])\n",
    "    \n",
    "    #split the words and lowercase them for each video\n",
    "    #this gives us a list of lists (one for each video)\n",
    "    suggested_ad = [string.lower().split(', ') for string in suggested_ad]\n",
    "    suggested_nonad = [string.lower().split(', ') for string in suggested_nonad]\n",
    "\n",
    "    # final list, flattened by our helper function\n",
    "    suggested_ad = flatten_list(suggested_ad)\n",
    "    suggested_nonad = flatten_list(suggested_nonad)\n",
    "\n",
    "    return suggested_ad, suggested_nonad"
   ]
  },
  {
   "cell_type": "code",
   "execution_count": 7,
   "metadata": {
    "id": "aIl49-w4wlJO"
   },
   "outputs": [],
   "source": [
    "def findUnion(lst1, lst2):\n",
    "    \"\"\"\n",
    "    Given two list of string phrases, finds the union.\n",
    "    Returns a tuple of the union as a list and the size \n",
    "    (total length of the two sets) as an int\n",
    "    \"\"\"\n",
    "    set1 = set(lst1)\n",
    "    set2 = set(lst2)\n",
    "    \n",
    "    size = len(set1) + len(set2)\n",
    "    union = list(set1.union(set2))\n",
    "\n",
    "    #print(f\"Set of words in union: {len(union)}\")\n",
    "    #print(f\"Set of total words: {size}\")\n",
    "\n",
    "    return union, size"
   ]
  },
  {
   "cell_type": "markdown",
   "metadata": {},
   "source": [
    "<a name=\"probs\"></a>\n",
    "## Word probabilities"
   ]
  },
  {
   "cell_type": "code",
   "execution_count": 8,
   "metadata": {
    "id": "8UH7cI5-r8mQ"
   },
   "outputs": [],
   "source": [
    "def calculate_word_probabilities(word_list):\n",
    "    \"\"\"\n",
    "    Given a word list, find the number of occurrences for each unique \n",
    "    word and then divides by the length of the list. Returns a dictionary\n",
    "    with unique words as keys and probability of occurrence within\n",
    "    the dataset as the item\n",
    "    \"\"\"\n",
    "    # Step 1: Count occurrences of each word\n",
    "    word_counts = Counter(word_list)\n",
    "\n",
    "    # Step 2: Calculate total number of words\n",
    "    total_words = len(word_list)\n",
    "\n",
    "    # Step 3: Calculate probability distribution\n",
    "    word_probabilities = {}\n",
    "    for word, count in word_counts.items():  \n",
    "        word_probabilities[word] = (count / total_words)\n",
    "\n",
    "    return word_probabilities"
   ]
  },
  {
   "cell_type": "markdown",
   "metadata": {},
   "source": [
    "<a name=\"calc\"></a>\n",
    "## JS and KL calculation functions"
   ]
  },
  {
   "cell_type": "code",
   "execution_count": 9,
   "metadata": {
    "colab": {
     "base_uri": "https://localhost:8080/"
    },
    "id": "nYDvSbggvqaC",
    "outputId": "35f22f7f-7607-4fa0-9b75-b8f161b50848"
   },
   "outputs": [],
   "source": [
    "def kl_divergence(p, q):\n",
    "    \"\"\"\n",
    "    calculate the kl divergence\n",
    "    \"\"\"\n",
    "    s=[]\n",
    "    for i in range(len(p)):\n",
    "        if q[i]!=0 and p[i]!=0:\n",
    "            s.append(p[i] * log2(p[i]/q[i]))\n",
    "    return sum(s)\n",
    "\n",
    "def js_divergence(p, q):\n",
    "    \"\"\"\n",
    "    calculate the js divergence\n",
    "    \"\"\"\n",
    "    m = 0.5 * (p + q)\n",
    "    return 0.5 * kl_divergence(p, m) + 0.5 * kl_divergence(q, m)"
   ]
  },
  {
   "cell_type": "markdown",
   "metadata": {},
   "source": [
    "<a name=\"main\"></a>\n",
    "## Main function"
   ]
  },
  {
   "cell_type": "code",
   "execution_count": 12,
   "metadata": {
    "id": "_6E0ikrl3ds8"
   },
   "outputs": [],
   "source": [
    "def main(df):\n",
    "    \"\"\"\n",
    "    Given a df of pyktok results for one user, \n",
    "        1. create lists of all words for ads and non-ads.  \n",
    "        2. find the union of these two lists. \n",
    "        3. calculate the probability for each unique word\n",
    "        4. create lists of word probabilties for each word in \n",
    "        the union separately for ads and non-ads\n",
    "        5. plug in lists from step 4 into the js divergence \n",
    "        equation to find divergence and distance\n",
    "        6. gathers all relevant info into a dictionary \n",
    "        and returns the dict\n",
    "    \"\"\"\n",
    "    #find word lists\n",
    "    suggested_ad, suggested_nonad = makeDFs(df)\n",
    "    \n",
    "    #find union and size\n",
    "    union, size = findUnion(suggested_ad, suggested_nonad)\n",
    "    \n",
    "    #calc word probabilities\n",
    "    word_probabilities_ad = calculate_word_probabilities(suggested_ad)\n",
    "    word_probabilities_nonad = calculate_word_probabilities(suggested_nonad)\n",
    "    \n",
    "    #create the lists of probability values for each word in union\n",
    "    #separately for ads and non-ads\n",
    "    word_probabilities_ad_union = []\n",
    "    word_probabilities_nonad_union = []\n",
    "    for i in union:\n",
    "        if i in word_probabilities_ad:\n",
    "            word_probabilities_ad_union.append(word_probabilities_ad[i])\n",
    "        else:\n",
    "            word_probabilities_ad_union.append(0)\n",
    "        if i in word_probabilities_nonad:\n",
    "            word_probabilities_nonad_union.append(word_probabilities_nonad[i])\n",
    "        else:\n",
    "            word_probabilities_nonad_union.append(0)\n",
    "\n",
    "    p = asarray(word_probabilities_ad_union)\n",
    "    q = asarray(word_probabilities_nonad_union)\n",
    "    \n",
    "    # calculate JS(P || Q)\n",
    "    js_pq = js_divergence(p, q)\n",
    "    \n",
    "    # calculate JS(Q || P)\n",
    "    js_qp = js_divergence(q, p)\n",
    "    \n",
    "    #gather info into a dict\n",
    "    oneRow = {'num words in union': len(union), 'num total words': size,\n",
    "            'pq divergence': js_pq, 'pq distance': sqrt(js_pq), \n",
    "            'qp divergence': js_qp, 'qp distance': sqrt(js_qp)}\n",
    "    \n",
    "    return oneRow"
   ]
  },
  {
   "cell_type": "markdown",
   "metadata": {},
   "source": [
    "<a name=\"df\"></a>\n",
    "## Calculate the divergence and distance for each file in the dataset\n",
    "\n",
    "Create a list of dictionaries with information for all pyktok data files. "
   ]
  },
  {
   "cell_type": "code",
   "execution_count": 48,
   "metadata": {
    "colab": {
     "base_uri": "https://localhost:8080/"
    },
    "id": "A5FkwWhO5T53",
    "outputId": "70e0cc12-c94f-4026-b12d-2f13c7eb9e7a"
   },
   "outputs": [
    {
     "name": "stderr",
     "output_type": "stream",
     "text": [
      "C:\\Users\\lilli\\AppData\\Local\\Temp\\ipykernel_9928\\2707840532.py:5: SettingWithCopyWarning: \n",
      "A value is trying to be set on a copy of a slice from a DataFrame.\n",
      "Try using .loc[row_indexer,col_indexer] = value instead\n",
      "\n",
      "See the caveats in the documentation: https://pandas.pydata.org/pandas-docs/stable/user_guide/indexing.html#returning-a-view-versus-a-copy\n",
      "  df['suggested_words_cleaned'] = df['suggested_words'].apply(removeNumber)\n",
      "C:\\Users\\lilli\\AppData\\Local\\Temp\\ipykernel_9928\\2707840532.py:5: SettingWithCopyWarning: \n",
      "A value is trying to be set on a copy of a slice from a DataFrame.\n",
      "Try using .loc[row_indexer,col_indexer] = value instead\n",
      "\n",
      "See the caveats in the documentation: https://pandas.pydata.org/pandas-docs/stable/user_guide/indexing.html#returning-a-view-versus-a-copy\n",
      "  df['suggested_words_cleaned'] = df['suggested_words'].apply(removeNumber)\n",
      "C:\\Users\\lilli\\AppData\\Local\\Temp\\ipykernel_9928\\2707840532.py:5: SettingWithCopyWarning: \n",
      "A value is trying to be set on a copy of a slice from a DataFrame.\n",
      "Try using .loc[row_indexer,col_indexer] = value instead\n",
      "\n",
      "See the caveats in the documentation: https://pandas.pydata.org/pandas-docs/stable/user_guide/indexing.html#returning-a-view-versus-a-copy\n",
      "  df['suggested_words_cleaned'] = df['suggested_words'].apply(removeNumber)\n",
      "C:\\Users\\lilli\\AppData\\Local\\Temp\\ipykernel_9928\\2707840532.py:5: SettingWithCopyWarning: \n",
      "A value is trying to be set on a copy of a slice from a DataFrame.\n",
      "Try using .loc[row_indexer,col_indexer] = value instead\n",
      "\n",
      "See the caveats in the documentation: https://pandas.pydata.org/pandas-docs/stable/user_guide/indexing.html#returning-a-view-versus-a-copy\n",
      "  df['suggested_words_cleaned'] = df['suggested_words'].apply(removeNumber)\n",
      "C:\\Users\\lilli\\AppData\\Local\\Temp\\ipykernel_9928\\2707840532.py:5: SettingWithCopyWarning: \n",
      "A value is trying to be set on a copy of a slice from a DataFrame.\n",
      "Try using .loc[row_indexer,col_indexer] = value instead\n",
      "\n",
      "See the caveats in the documentation: https://pandas.pydata.org/pandas-docs/stable/user_guide/indexing.html#returning-a-view-versus-a-copy\n",
      "  df['suggested_words_cleaned'] = df['suggested_words'].apply(removeNumber)\n"
     ]
    }
   ],
   "source": [
    "allData = []\n",
    "\n",
    "for f in os.listdir('data'):\n",
    "    #dataframe of pyktok data\n",
    "    df = pd.read_csv(\"data\"+\"/\"+f)\n",
    "    \n",
    "    #generate dict with divergence and distance scores\n",
    "    oneRow = main(df)\n",
    "    \n",
    "    #finds user code to add to df\n",
    "    code = re.search(r'\\d+', f)[0]\n",
    "    oneRow['code'] = code\n",
    "    \n",
    "    #append dict to list\n",
    "    allData.append(oneRow)"
   ]
  },
  {
   "cell_type": "markdown",
   "metadata": {},
   "source": [
    "Input the list from above into a new dataframe"
   ]
  },
  {
   "cell_type": "code",
   "execution_count": 49,
   "metadata": {},
   "outputs": [],
   "source": [
    "divergence_df = pd.DataFrame(allData)\n",
    "divergence_df = divergence_df.set_index('code')"
   ]
  },
  {
   "cell_type": "markdown",
   "metadata": {},
   "source": [
    "Find the statistics of the dataframe "
   ]
  },
  {
   "cell_type": "code",
   "execution_count": 50,
   "metadata": {
    "scrolled": true
   },
   "outputs": [
    {
     "data": {
      "text/html": [
       "<div>\n",
       "<style scoped>\n",
       "    .dataframe tbody tr th:only-of-type {\n",
       "        vertical-align: middle;\n",
       "    }\n",
       "\n",
       "    .dataframe tbody tr th {\n",
       "        vertical-align: top;\n",
       "    }\n",
       "\n",
       "    .dataframe thead th {\n",
       "        text-align: right;\n",
       "    }\n",
       "</style>\n",
       "<table border=\"1\" class=\"dataframe\">\n",
       "  <thead>\n",
       "    <tr style=\"text-align: right;\">\n",
       "      <th></th>\n",
       "      <th>num words in union</th>\n",
       "      <th>num total words</th>\n",
       "      <th>pq divergence</th>\n",
       "      <th>pq distance</th>\n",
       "      <th>qp divergence</th>\n",
       "      <th>qp distance</th>\n",
       "    </tr>\n",
       "  </thead>\n",
       "  <tbody>\n",
       "    <tr>\n",
       "      <th>count</th>\n",
       "      <td>5.000000</td>\n",
       "      <td>5.000000</td>\n",
       "      <td>5.000000</td>\n",
       "      <td>5.000000</td>\n",
       "      <td>5.000000</td>\n",
       "      <td>5.000000</td>\n",
       "    </tr>\n",
       "    <tr>\n",
       "      <th>mean</th>\n",
       "      <td>15167.600000</td>\n",
       "      <td>16983.600000</td>\n",
       "      <td>0.523338</td>\n",
       "      <td>0.721060</td>\n",
       "      <td>0.523338</td>\n",
       "      <td>0.721060</td>\n",
       "    </tr>\n",
       "    <tr>\n",
       "      <th>std</th>\n",
       "      <td>2995.366806</td>\n",
       "      <td>3623.468476</td>\n",
       "      <td>0.096211</td>\n",
       "      <td>0.065297</td>\n",
       "      <td>0.096211</td>\n",
       "      <td>0.065297</td>\n",
       "    </tr>\n",
       "    <tr>\n",
       "      <th>min</th>\n",
       "      <td>12052.000000</td>\n",
       "      <td>12470.000000</td>\n",
       "      <td>0.410198</td>\n",
       "      <td>0.640467</td>\n",
       "      <td>0.410198</td>\n",
       "      <td>0.640467</td>\n",
       "    </tr>\n",
       "    <tr>\n",
       "      <th>25%</th>\n",
       "      <td>12210.000000</td>\n",
       "      <td>14039.000000</td>\n",
       "      <td>0.500175</td>\n",
       "      <td>0.707230</td>\n",
       "      <td>0.500175</td>\n",
       "      <td>0.707230</td>\n",
       "    </tr>\n",
       "    <tr>\n",
       "      <th>50%</th>\n",
       "      <td>15382.000000</td>\n",
       "      <td>17659.000000</td>\n",
       "      <td>0.504739</td>\n",
       "      <td>0.710450</td>\n",
       "      <td>0.504739</td>\n",
       "      <td>0.710450</td>\n",
       "    </tr>\n",
       "    <tr>\n",
       "      <th>75%</th>\n",
       "      <td>17761.000000</td>\n",
       "      <td>20287.000000</td>\n",
       "      <td>0.525473</td>\n",
       "      <td>0.724895</td>\n",
       "      <td>0.525473</td>\n",
       "      <td>0.724895</td>\n",
       "    </tr>\n",
       "    <tr>\n",
       "      <th>max</th>\n",
       "      <td>18433.000000</td>\n",
       "      <td>20463.000000</td>\n",
       "      <td>0.676108</td>\n",
       "      <td>0.822258</td>\n",
       "      <td>0.676108</td>\n",
       "      <td>0.822258</td>\n",
       "    </tr>\n",
       "  </tbody>\n",
       "</table>\n",
       "</div>"
      ],
      "text/plain": [
       "       num words in union  num total words  pq divergence  pq distance  \\\n",
       "count            5.000000         5.000000       5.000000     5.000000   \n",
       "mean         15167.600000     16983.600000       0.523338     0.721060   \n",
       "std           2995.366806      3623.468476       0.096211     0.065297   \n",
       "min          12052.000000     12470.000000       0.410198     0.640467   \n",
       "25%          12210.000000     14039.000000       0.500175     0.707230   \n",
       "50%          15382.000000     17659.000000       0.504739     0.710450   \n",
       "75%          17761.000000     20287.000000       0.525473     0.724895   \n",
       "max          18433.000000     20463.000000       0.676108     0.822258   \n",
       "\n",
       "       qp divergence  qp distance  \n",
       "count       5.000000     5.000000  \n",
       "mean        0.523338     0.721060  \n",
       "std         0.096211     0.065297  \n",
       "min         0.410198     0.640467  \n",
       "25%         0.500175     0.707230  \n",
       "50%         0.504739     0.710450  \n",
       "75%         0.525473     0.724895  \n",
       "max         0.676108     0.822258  "
      ]
     },
     "execution_count": 50,
     "metadata": {},
     "output_type": "execute_result"
    }
   ],
   "source": [
    "divergence_df.describe()"
   ]
  },
  {
   "cell_type": "markdown",
   "metadata": {},
   "source": [
    "Add mean and standard deviation as rows to the dataframe"
   ]
  },
  {
   "cell_type": "code",
   "execution_count": 51,
   "metadata": {},
   "outputs": [],
   "source": [
    "toAdd = pd.DataFrame(divergence_df.describe().loc[['mean','std']])\n",
    "divergence_df = pd.concat([divergence_df,toAdd])"
   ]
  },
  {
   "cell_type": "markdown",
   "metadata": {},
   "source": [
    "Final results"
   ]
  },
  {
   "cell_type": "code",
   "execution_count": 53,
   "metadata": {},
   "outputs": [
    {
     "data": {
      "text/html": [
       "<div>\n",
       "<style scoped>\n",
       "    .dataframe tbody tr th:only-of-type {\n",
       "        vertical-align: middle;\n",
       "    }\n",
       "\n",
       "    .dataframe tbody tr th {\n",
       "        vertical-align: top;\n",
       "    }\n",
       "\n",
       "    .dataframe thead th {\n",
       "        text-align: right;\n",
       "    }\n",
       "</style>\n",
       "<table border=\"1\" class=\"dataframe\">\n",
       "  <thead>\n",
       "    <tr style=\"text-align: right;\">\n",
       "      <th></th>\n",
       "      <th>num words in union</th>\n",
       "      <th>num total words</th>\n",
       "      <th>pq divergence</th>\n",
       "      <th>pq distance</th>\n",
       "      <th>qp divergence</th>\n",
       "      <th>qp distance</th>\n",
       "    </tr>\n",
       "  </thead>\n",
       "  <tbody>\n",
       "    <tr>\n",
       "      <th>10824</th>\n",
       "      <td>12052.000000</td>\n",
       "      <td>12470.000000</td>\n",
       "      <td>0.676108</td>\n",
       "      <td>0.822258</td>\n",
       "      <td>0.676108</td>\n",
       "      <td>0.822258</td>\n",
       "    </tr>\n",
       "    <tr>\n",
       "      <th>12345</th>\n",
       "      <td>18433.000000</td>\n",
       "      <td>20463.000000</td>\n",
       "      <td>0.504739</td>\n",
       "      <td>0.710450</td>\n",
       "      <td>0.504739</td>\n",
       "      <td>0.710450</td>\n",
       "    </tr>\n",
       "    <tr>\n",
       "      <th>26301</th>\n",
       "      <td>15382.000000</td>\n",
       "      <td>17659.000000</td>\n",
       "      <td>0.525473</td>\n",
       "      <td>0.724895</td>\n",
       "      <td>0.525473</td>\n",
       "      <td>0.724895</td>\n",
       "    </tr>\n",
       "    <tr>\n",
       "      <th>33534</th>\n",
       "      <td>12210.000000</td>\n",
       "      <td>14039.000000</td>\n",
       "      <td>0.500175</td>\n",
       "      <td>0.707230</td>\n",
       "      <td>0.500175</td>\n",
       "      <td>0.707230</td>\n",
       "    </tr>\n",
       "    <tr>\n",
       "      <th>50405</th>\n",
       "      <td>17761.000000</td>\n",
       "      <td>20287.000000</td>\n",
       "      <td>0.410198</td>\n",
       "      <td>0.640467</td>\n",
       "      <td>0.410198</td>\n",
       "      <td>0.640467</td>\n",
       "    </tr>\n",
       "    <tr>\n",
       "      <th>mean</th>\n",
       "      <td>15167.600000</td>\n",
       "      <td>16983.600000</td>\n",
       "      <td>0.523338</td>\n",
       "      <td>0.721060</td>\n",
       "      <td>0.523338</td>\n",
       "      <td>0.721060</td>\n",
       "    </tr>\n",
       "    <tr>\n",
       "      <th>std</th>\n",
       "      <td>2995.366806</td>\n",
       "      <td>3623.468476</td>\n",
       "      <td>0.096211</td>\n",
       "      <td>0.065297</td>\n",
       "      <td>0.096211</td>\n",
       "      <td>0.065297</td>\n",
       "    </tr>\n",
       "  </tbody>\n",
       "</table>\n",
       "</div>"
      ],
      "text/plain": [
       "       num words in union  num total words  pq divergence  pq distance  \\\n",
       "10824        12052.000000     12470.000000       0.676108     0.822258   \n",
       "12345        18433.000000     20463.000000       0.504739     0.710450   \n",
       "26301        15382.000000     17659.000000       0.525473     0.724895   \n",
       "33534        12210.000000     14039.000000       0.500175     0.707230   \n",
       "50405        17761.000000     20287.000000       0.410198     0.640467   \n",
       "mean         15167.600000     16983.600000       0.523338     0.721060   \n",
       "std           2995.366806      3623.468476       0.096211     0.065297   \n",
       "\n",
       "       qp divergence  qp distance  \n",
       "10824       0.676108     0.822258  \n",
       "12345       0.504739     0.710450  \n",
       "26301       0.525473     0.724895  \n",
       "33534       0.500175     0.707230  \n",
       "50405       0.410198     0.640467  \n",
       "mean        0.523338     0.721060  \n",
       "std         0.096211     0.065297  "
      ]
     },
     "execution_count": 53,
     "metadata": {},
     "output_type": "execute_result"
    }
   ],
   "source": [
    "divergence_df"
   ]
  }
 ],
 "metadata": {
  "colab": {
   "provenance": []
  },
  "kernelspec": {
   "display_name": "Python 3 (ipykernel)",
   "language": "python",
   "name": "python3"
  },
  "language_info": {
   "codemirror_mode": {
    "name": "ipython",
    "version": 3
   },
   "file_extension": ".py",
   "mimetype": "text/x-python",
   "name": "python",
   "nbconvert_exporter": "python",
   "pygments_lexer": "ipython3",
   "version": "3.11.5"
  }
 },
 "nbformat": 4,
 "nbformat_minor": 1
}
